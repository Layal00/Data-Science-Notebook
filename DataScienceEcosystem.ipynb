{
 "cells": [
  {
   "cell_type": "markdown",
   "id": "b382368b-b1c4-428f-a374-b4266fa24460",
   "metadata": {},
   "source": [
    "# Data Scince Tools and Ecosystem"
   ]
  },
  {
   "cell_type": "markdown",
   "id": "b9878472-96c4-43d9-8131-3e4c5f37f4e3",
   "metadata": {},
   "source": [
    "In this notebook, Data Science Tools and Ecosystem are summarized."
   ]
  },
  {
   "cell_type": "markdown",
   "id": "98198ee1-4574-41d2-9531-cb7efff35f6b",
   "metadata": {},
   "source": [
    "Some of the popular languages that Data Scientists use are:\n",
    "1. Python\n",
    "2. R\n",
    "3. SQL\n",
    "4. Scala"
   ]
  },
  {
   "cell_type": "markdown",
   "id": "13f986c2-ce45-4316-af25-2b98e3332279",
   "metadata": {},
   "source": [
    "Some of the commonly used libraries used by Data Scientists include:\n",
    "1. Numpy\n",
    "2. Pandas\n",
    "3. Matplotlib\n",
    "4. Tenserflow\n"
   ]
  },
  {
   "cell_type": "markdown",
   "id": "476e82c4-c5d6-463d-b011-5c8fc4fbec29",
   "metadata": {},
   "source": [
    "|Data Science Tools   |\n",
    "|---------------------|\n",
    "| Jupyter Notebook    |\n",
    "|Apache Spark         |\n",
    "|Rstudio              |"
   ]
  },
  {
   "cell_type": "markdown",
   "id": "f26c2a7c-e98e-4fbb-8fea-8d50cd472a25",
   "metadata": {},
   "source": [
    "### Below are a few examples of evaluating arithmetic expressions in python."
   ]
  },
  {
   "cell_type": "code",
   "execution_count": 10,
   "id": "57bfe44d-59b6-4420-aecd-265053d9fa51",
   "metadata": {},
   "outputs": [
    {
     "data": {
      "text/plain": [
       "17"
      ]
     },
     "execution_count": 10,
     "metadata": {},
     "output_type": "execute_result"
    }
   ],
   "source": [
    "# This is a simple arithmetic experession to multiply the add integers\n",
    "(3 * 4) + 5"
   ]
  },
  {
   "cell_type": "code",
   "execution_count": 12,
   "id": "34e40bd7-4399-4086-826a-693d74548da3",
   "metadata": {},
   "outputs": [
    {
     "data": {
      "text/plain": [
       "3.3333333333333335"
      ]
     },
     "execution_count": 12,
     "metadata": {},
     "output_type": "execute_result"
    }
   ],
   "source": [
    "# This will convert 200 minutes to hours by dividing by 60\n",
    "minutes = 200\n",
    "hours = minutes /60\n",
    "hours"
   ]
  },
  {
   "cell_type": "markdown",
   "id": "273b83be-0580-4a84-8a1a-0f10847faa13",
   "metadata": {},
   "source": [
    "**Objectives:**\n",
    "\n",
    "- Understand the Data Science Ecosystem.\n",
    "- Identify key Data Science tools and environments.\n",
    "- Explore common libraries used in Data Science.\n",
    "- Learn how to perform basic arithmetic operations in Python."
   ]
  },
  {
   "cell_type": "markdown",
   "id": "5996448b-f902-4ce8-8bb6-406a8e9eef84",
   "metadata": {},
   "source": [
    "## Author\n",
    "Layal Hebshi"
   ]
  },
  {
   "cell_type": "code",
   "execution_count": null,
   "id": "883be491-6335-4bff-94c3-1b597d5bc57c",
   "metadata": {},
   "outputs": [],
   "source": []
  }
 ],
 "metadata": {
  "kernelspec": {
   "display_name": "Python 3 (ipykernel)",
   "language": "python",
   "name": "python3"
  },
  "language_info": {
   "codemirror_mode": {
    "name": "ipython",
    "version": 3
   },
   "file_extension": ".py",
   "mimetype": "text/x-python",
   "name": "python",
   "nbconvert_exporter": "python",
   "pygments_lexer": "ipython3",
   "version": "3.12.4"
  }
 },
 "nbformat": 4,
 "nbformat_minor": 5
}
